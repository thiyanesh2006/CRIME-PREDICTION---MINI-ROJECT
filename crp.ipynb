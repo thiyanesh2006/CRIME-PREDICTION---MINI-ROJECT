{
 "cells": [
  {
   "cell_type": "markdown",
   "id": "8e94bfe0-713e-498e-acee-f7b33ef8c526",
   "metadata": {},
   "source": [
    "<p style=\"font: 30px Georgia; \n",
    "          text-decoration: underline; \n",
    "          text-align:center; \n",
    "          padding:20px; \n",
    "          background-color:PapayaWhip \"> \n",
    "    MINI PROJECT ON CRIME RATE PREDICTION \n",
    "</p>"
   ]
  },
  {
   "attachments": {},
   "cell_type": "markdown",
   "id": "5fdef2c4-cd0e-4b36-90d0-5eb5a46cf262",
   "metadata": {},
   "source": [
    "<p style=\"font: 20px Georgia;  \n",
    "          font-style: oblique;\n",
    "          text-align:justify;\n",
    "          padding:15px; \n",
    "          background-color:PapayaWhip \"> \n",
    "    Name: &emsp;&ensp;Abhay Rautela<br>\n",
    "    Course: &emsp;B.Tech C.S.E<br>\n",
    "    Semester: &nbsp; 5th \n",
    "</p>"
   ]
  },
  {
   "cell_type": "markdown",
   "id": "bf2c500f-c98a-43a9-a72f-8a0a07c52afc",
   "metadata": {
    "tags": []
   },
   "source": [
    "<p style=\"font: 20px Georgia; \n",
    "          color: black;\n",
    "          font-style: oblique;\n",
    "          text-align: justify;\n",
    "          padding:15px; \n",
    "          background-color:MistyRose\"> \n",
    "    IMPORTING THE REQUIRED LIBRARIES \n",
    "</p>"
   ]
  },
  {
   "cell_type": "code",
   "execution_count": 44,
   "id": "bcd71b4d-f3da-4a7e-bf3d-24d2e2d2c327",
   "metadata": {
    "tags": []
   },
   "outputs": [
    {
     "name": "stdout",
     "output_type": "stream",
     "text": [
      "Requirement already satisfied: pandas in c:\\users\\uvaba\\desktop\\crime_prediction\\.venv\\lib\\site-packages (2.3.3)\n",
      "Requirement already satisfied: matplotlib in c:\\users\\uvaba\\desktop\\crime_prediction\\.venv\\lib\\site-packages (3.10.6)\n",
      "Requirement already satisfied: scikit-learn in c:\\users\\uvaba\\desktop\\crime_prediction\\.venv\\lib\\site-packages (1.7.2)\n",
      "Requirement already satisfied: numpy>=1.26.0 in c:\\users\\uvaba\\desktop\\crime_prediction\\.venv\\lib\\site-packages (from pandas) (2.3.3)\n",
      "Requirement already satisfied: python-dateutil>=2.8.2 in c:\\users\\uvaba\\desktop\\crime_prediction\\.venv\\lib\\site-packages (from pandas) (2.9.0.post0)\n",
      "Requirement already satisfied: pytz>=2020.1 in c:\\users\\uvaba\\desktop\\crime_prediction\\.venv\\lib\\site-packages (from pandas) (2025.2)\n",
      "Requirement already satisfied: tzdata>=2022.7 in c:\\users\\uvaba\\desktop\\crime_prediction\\.venv\\lib\\site-packages (from pandas) (2025.2)\n",
      "Requirement already satisfied: contourpy>=1.0.1 in c:\\users\\uvaba\\desktop\\crime_prediction\\.venv\\lib\\site-packages (from matplotlib) (1.3.3)\n",
      "Requirement already satisfied: cycler>=0.10 in c:\\users\\uvaba\\desktop\\crime_prediction\\.venv\\lib\\site-packages (from matplotlib) (0.12.1)\n",
      "Requirement already satisfied: fonttools>=4.22.0 in c:\\users\\uvaba\\desktop\\crime_prediction\\.venv\\lib\\site-packages (from matplotlib) (4.60.1)\n",
      "Requirement already satisfied: kiwisolver>=1.3.1 in c:\\users\\uvaba\\desktop\\crime_prediction\\.venv\\lib\\site-packages (from matplotlib) (1.4.9)\n",
      "Requirement already satisfied: packaging>=20.0 in c:\\users\\uvaba\\desktop\\crime_prediction\\.venv\\lib\\site-packages (from matplotlib) (25.0)\n",
      "Requirement already satisfied: pillow>=8 in c:\\users\\uvaba\\desktop\\crime_prediction\\.venv\\lib\\site-packages (from matplotlib) (11.3.0)\n",
      "Requirement already satisfied: pyparsing>=2.3.1 in c:\\users\\uvaba\\desktop\\crime_prediction\\.venv\\lib\\site-packages (from matplotlib) (3.2.5)\n",
      "Requirement already satisfied: scipy>=1.8.0 in c:\\users\\uvaba\\desktop\\crime_prediction\\.venv\\lib\\site-packages (from scikit-learn) (1.16.2)\n",
      "Requirement already satisfied: joblib>=1.2.0 in c:\\users\\uvaba\\desktop\\crime_prediction\\.venv\\lib\\site-packages (from scikit-learn) (1.5.2)\n",
      "Requirement already satisfied: threadpoolctl>=3.1.0 in c:\\users\\uvaba\\desktop\\crime_prediction\\.venv\\lib\\site-packages (from scikit-learn) (3.6.0)\n",
      "Requirement already satisfied: six>=1.5 in c:\\users\\uvaba\\desktop\\crime_prediction\\.venv\\lib\\site-packages (from python-dateutil>=2.8.2->pandas) (1.17.0)\n",
      "Note: you may need to restart the kernel to use updated packages.\n"
     ]
    }
   ],
   "source": [
    "%pip install pandas matplotlib scikit-learn\n",
    "\n",
    "import pandas as pd\n",
    "import matplotlib.pyplot as plt\n",
    "from sklearn.preprocessing import LabelEncoder\n",
    "from sklearn.model_selection import train_test_split\n",
    "from sklearn import svm\n",
    "from sklearn.neighbors import KNeighborsRegressor\n",
    "from sklearn import tree\n",
    "from sklearn.ensemble import RandomForestRegressor\n",
    "from sklearn.neural_network import MLPRegressor\n",
    "from sklearn import metrics"
   ]
  },
  {
   "cell_type": "markdown",
   "id": "426befa5-93a6-4e54-be91-9a72eb7869c0",
   "metadata": {
    "tags": []
   },
   "source": [
    "<p style=\"font: 20px Georgia; \n",
    "          color: black;\n",
    "          font-style: oblique;\n",
    "          text-align: justify;\n",
    "          margin-top:20px;\n",
    "          padding:15px; \n",
    "          background-color:MistyRose\"> \n",
    "    GETTING THE DATASET \n",
    "</p>"
   ]
  },
  {
   "cell_type": "code",
   "execution_count": 45,
   "id": "6c917209-a2bc-4cbb-8d3d-c2336f21afa6",
   "metadata": {
    "tags": []
   },
   "outputs": [
    {
     "name": "stdout",
     "output_type": "stream",
     "text": [
      "Requirement already satisfied: openpyxl in c:\\users\\uvaba\\desktop\\crime_prediction\\.venv\\lib\\site-packages (3.1.5)\n",
      "Requirement already satisfied: et-xmlfile in c:\\users\\uvaba\\desktop\\crime_prediction\\.venv\\lib\\site-packages (from openpyxl) (2.0.0)\n",
      "Note: you may need to restart the kernel to use updated packages.\n"
     ]
    }
   ],
   "source": [
    "%pip install openpyxl\n",
    "\n",
    "dataset = pd.read_excel(\"Dataset/crp.xlsx\", sheet_name=\"Sheet1\")"
   ]
  },
  {
   "cell_type": "code",
   "execution_count": 46,
   "id": "1171e69f-0966-46ed-8e0d-d1016e1c85e4",
   "metadata": {},
   "outputs": [
    {
     "data": {
      "text/html": [
       "<div>\n",
       "<style scoped>\n",
       "    .dataframe tbody tr th:only-of-type {\n",
       "        vertical-align: middle;\n",
       "    }\n",
       "\n",
       "    .dataframe tbody tr th {\n",
       "        vertical-align: top;\n",
       "    }\n",
       "\n",
       "    .dataframe thead th {\n",
       "        text-align: right;\n",
       "    }\n",
       "</style>\n",
       "<table border=\"1\" class=\"dataframe\">\n",
       "  <thead>\n",
       "    <tr style=\"text-align: right;\">\n",
       "      <th></th>\n",
       "      <th>Year</th>\n",
       "      <th>City</th>\n",
       "      <th>Population (in Lakhs) (2011)+</th>\n",
       "      <th>Murder</th>\n",
       "      <th>Kidnapping</th>\n",
       "      <th>Crime against women</th>\n",
       "      <th>Crime against children</th>\n",
       "      <th>Crime Committed by Juveniles</th>\n",
       "      <th>Crime against Senior Citizen</th>\n",
       "      <th>Crime against SC</th>\n",
       "      <th>Crime against ST</th>\n",
       "      <th>Economic Offences</th>\n",
       "      <th>Cyber Crimes</th>\n",
       "    </tr>\n",
       "  </thead>\n",
       "  <tbody>\n",
       "    <tr>\n",
       "      <th>0</th>\n",
       "      <td>2014</td>\n",
       "      <td>Ahmedabad</td>\n",
       "      <td>63.5</td>\n",
       "      <td>82</td>\n",
       "      <td>367</td>\n",
       "      <td>1371</td>\n",
       "      <td>437</td>\n",
       "      <td>215</td>\n",
       "      <td>68</td>\n",
       "      <td>66</td>\n",
       "      <td>6</td>\n",
       "      <td>399</td>\n",
       "      <td>32</td>\n",
       "    </tr>\n",
       "    <tr>\n",
       "      <th>1</th>\n",
       "      <td>2015</td>\n",
       "      <td>Ahmedabad</td>\n",
       "      <td>63.5</td>\n",
       "      <td>94</td>\n",
       "      <td>332</td>\n",
       "      <td>1067</td>\n",
       "      <td>609</td>\n",
       "      <td>157</td>\n",
       "      <td>17</td>\n",
       "      <td>60</td>\n",
       "      <td>9</td>\n",
       "      <td>378</td>\n",
       "      <td>28</td>\n",
       "    </tr>\n",
       "    <tr>\n",
       "      <th>2</th>\n",
       "      <td>2016</td>\n",
       "      <td>Ahmedabad</td>\n",
       "      <td>63.5</td>\n",
       "      <td>103</td>\n",
       "      <td>376</td>\n",
       "      <td>1126</td>\n",
       "      <td>481</td>\n",
       "      <td>258</td>\n",
       "      <td>362</td>\n",
       "      <td>96</td>\n",
       "      <td>10</td>\n",
       "      <td>479</td>\n",
       "      <td>77</td>\n",
       "    </tr>\n",
       "    <tr>\n",
       "      <th>3</th>\n",
       "      <td>2017</td>\n",
       "      <td>Ahmedabad</td>\n",
       "      <td>63.5</td>\n",
       "      <td>90</td>\n",
       "      <td>263</td>\n",
       "      <td>1405</td>\n",
       "      <td>600</td>\n",
       "      <td>405</td>\n",
       "      <td>534</td>\n",
       "      <td>119</td>\n",
       "      <td>6</td>\n",
       "      <td>608</td>\n",
       "      <td>112</td>\n",
       "    </tr>\n",
       "    <tr>\n",
       "      <th>4</th>\n",
       "      <td>2018</td>\n",
       "      <td>Ahmedabad</td>\n",
       "      <td>63.5</td>\n",
       "      <td>98</td>\n",
       "      <td>277</td>\n",
       "      <td>1416</td>\n",
       "      <td>733</td>\n",
       "      <td>352</td>\n",
       "      <td>733</td>\n",
       "      <td>145</td>\n",
       "      <td>9</td>\n",
       "      <td>842</td>\n",
       "      <td>212</td>\n",
       "    </tr>\n",
       "    <tr>\n",
       "      <th>...</th>\n",
       "      <td>...</td>\n",
       "      <td>...</td>\n",
       "      <td>...</td>\n",
       "      <td>...</td>\n",
       "      <td>...</td>\n",
       "      <td>...</td>\n",
       "      <td>...</td>\n",
       "      <td>...</td>\n",
       "      <td>...</td>\n",
       "      <td>...</td>\n",
       "      <td>...</td>\n",
       "      <td>...</td>\n",
       "      <td>...</td>\n",
       "    </tr>\n",
       "    <tr>\n",
       "      <th>147</th>\n",
       "      <td>2017</td>\n",
       "      <td>Surat</td>\n",
       "      <td>45.8</td>\n",
       "      <td>89</td>\n",
       "      <td>332</td>\n",
       "      <td>559</td>\n",
       "      <td>526</td>\n",
       "      <td>436</td>\n",
       "      <td>131</td>\n",
       "      <td>32</td>\n",
       "      <td>10</td>\n",
       "      <td>719</td>\n",
       "      <td>105</td>\n",
       "    </tr>\n",
       "    <tr>\n",
       "      <th>148</th>\n",
       "      <td>2018</td>\n",
       "      <td>Surat</td>\n",
       "      <td>45.8</td>\n",
       "      <td>108</td>\n",
       "      <td>373</td>\n",
       "      <td>712</td>\n",
       "      <td>1075</td>\n",
       "      <td>409</td>\n",
       "      <td>161</td>\n",
       "      <td>29</td>\n",
       "      <td>13</td>\n",
       "      <td>829</td>\n",
       "      <td>155</td>\n",
       "    </tr>\n",
       "    <tr>\n",
       "      <th>149</th>\n",
       "      <td>2019</td>\n",
       "      <td>Surat</td>\n",
       "      <td>45.8</td>\n",
       "      <td>97</td>\n",
       "      <td>358</td>\n",
       "      <td>1015</td>\n",
       "      <td>770</td>\n",
       "      <td>516</td>\n",
       "      <td>232</td>\n",
       "      <td>34</td>\n",
       "      <td>19</td>\n",
       "      <td>804</td>\n",
       "      <td>228</td>\n",
       "    </tr>\n",
       "    <tr>\n",
       "      <th>150</th>\n",
       "      <td>2020</td>\n",
       "      <td>Surat</td>\n",
       "      <td>45.8</td>\n",
       "      <td>116</td>\n",
       "      <td>163</td>\n",
       "      <td>633</td>\n",
       "      <td>419</td>\n",
       "      <td>298</td>\n",
       "      <td>69</td>\n",
       "      <td>20</td>\n",
       "      <td>12</td>\n",
       "      <td>401</td>\n",
       "      <td>204</td>\n",
       "    </tr>\n",
       "    <tr>\n",
       "      <th>151</th>\n",
       "      <td>2021</td>\n",
       "      <td>Surat</td>\n",
       "      <td>45.8</td>\n",
       "      <td>121</td>\n",
       "      <td>270</td>\n",
       "      <td>622</td>\n",
       "      <td>479</td>\n",
       "      <td>355</td>\n",
       "      <td>66</td>\n",
       "      <td>22</td>\n",
       "      <td>19</td>\n",
       "      <td>663</td>\n",
       "      <td>296</td>\n",
       "    </tr>\n",
       "  </tbody>\n",
       "</table>\n",
       "<p>152 rows × 13 columns</p>\n",
       "</div>"
      ],
      "text/plain": [
       "     Year       City  Population (in Lakhs) (2011)+  Murder  Kidnapping  \\\n",
       "0    2014  Ahmedabad                           63.5      82         367   \n",
       "1    2015  Ahmedabad                           63.5      94         332   \n",
       "2    2016  Ahmedabad                           63.5     103         376   \n",
       "3    2017  Ahmedabad                           63.5      90         263   \n",
       "4    2018  Ahmedabad                           63.5      98         277   \n",
       "..    ...        ...                            ...     ...         ...   \n",
       "147  2017      Surat                           45.8      89         332   \n",
       "148  2018      Surat                           45.8     108         373   \n",
       "149  2019      Surat                           45.8      97         358   \n",
       "150  2020      Surat                           45.8     116         163   \n",
       "151  2021      Surat                           45.8     121         270   \n",
       "\n",
       "     Crime against women  Crime against children  \\\n",
       "0                   1371                     437   \n",
       "1                   1067                     609   \n",
       "2                   1126                     481   \n",
       "3                   1405                     600   \n",
       "4                   1416                     733   \n",
       "..                   ...                     ...   \n",
       "147                  559                     526   \n",
       "148                  712                    1075   \n",
       "149                 1015                     770   \n",
       "150                  633                     419   \n",
       "151                  622                     479   \n",
       "\n",
       "     Crime Committed by Juveniles  Crime against Senior Citizen  \\\n",
       "0                             215                            68   \n",
       "1                             157                            17   \n",
       "2                             258                           362   \n",
       "3                             405                           534   \n",
       "4                             352                           733   \n",
       "..                            ...                           ...   \n",
       "147                           436                           131   \n",
       "148                           409                           161   \n",
       "149                           516                           232   \n",
       "150                           298                            69   \n",
       "151                           355                            66   \n",
       "\n",
       "     Crime against SC  Crime against ST  Economic Offences  Cyber Crimes  \n",
       "0                  66                 6                399            32  \n",
       "1                  60                 9                378            28  \n",
       "2                  96                10                479            77  \n",
       "3                 119                 6                608           112  \n",
       "4                 145                 9                842           212  \n",
       "..                ...               ...                ...           ...  \n",
       "147                32                10                719           105  \n",
       "148                29                13                829           155  \n",
       "149                34                19                804           228  \n",
       "150                20                12                401           204  \n",
       "151                22                19                663           296  \n",
       "\n",
       "[152 rows x 13 columns]"
      ]
     },
     "execution_count": 46,
     "metadata": {},
     "output_type": "execute_result"
    }
   ],
   "source": [
    "dataset"
   ]
  },
  {
   "cell_type": "code",
   "execution_count": 47,
   "id": "28f564e4-3c09-4f61-821f-39b2caa626f8",
   "metadata": {},
   "outputs": [
    {
     "name": "stdout",
     "output_type": "stream",
     "text": [
      "<class 'pandas.core.frame.DataFrame'>\n",
      "RangeIndex: 152 entries, 0 to 151\n",
      "Data columns (total 13 columns):\n",
      " #   Column                         Non-Null Count  Dtype  \n",
      "---  ------                         --------------  -----  \n",
      " 0   Year                           152 non-null    int64  \n",
      " 1   City                           152 non-null    object \n",
      " 2   Population (in Lakhs) (2011)+  152 non-null    float64\n",
      " 3   Murder                         152 non-null    int64  \n",
      " 4   Kidnapping                     152 non-null    int64  \n",
      " 5   Crime against women            152 non-null    int64  \n",
      " 6   Crime against children         152 non-null    int64  \n",
      " 7   Crime Committed by Juveniles   152 non-null    int64  \n",
      " 8   Crime against Senior Citizen   152 non-null    int64  \n",
      " 9   Crime against SC               152 non-null    int64  \n",
      " 10  Crime against ST               152 non-null    int64  \n",
      " 11  Economic Offences              152 non-null    int64  \n",
      " 12  Cyber Crimes                   152 non-null    int64  \n",
      "dtypes: float64(1), int64(11), object(1)\n",
      "memory usage: 15.6+ KB\n"
     ]
    }
   ],
   "source": [
    "dataset.info()"
   ]
  },
  {
   "cell_type": "markdown",
   "id": "47aa2dd6-258e-4329-bf2a-87739a9faea5",
   "metadata": {
    "tags": []
   },
   "source": [
    "<p style=\"font: 20px Georgia; \n",
    "          color: black;\n",
    "          font-style: oblique;\n",
    "          text-align: justify;\n",
    "          margin-top:20px;\n",
    "          padding:15px; \n",
    "          background-color:MistyRose\"> \n",
    "    DATASET INFORMATION \n",
    "</p>"
   ]
  },
  {
   "cell_type": "markdown",
   "id": "6070b9c8-5ebc-4651-a23c-373461a954fd",
   "metadata": {
    "tags": []
   },
   "source": [
    "*  In this study, the data has been collected from the **National Crime Records Bureau (NCRB)**, India.\n",
    "*  The data provides statistics on the number of crimes commited in **19 metropolitan cities** during the year **2014 to 2021**.\n",
    "*  The 19 metropolitan cities are:<br>\n",
    "    `*  Ahmedabad        *  Bengaluru        *  Chennai   `<br>\n",
    "    `*  Coimbatore       *  Delhi            *  Ghaziabad `<br>\n",
    "    `*  Hyderabad        *  Indore           *  Jaipur    `<br>\n",
    "    `*  Kanpur           *  Kochi            *  Kolkata   `<br>\n",
    "    `*  Kozhikode        *  Lucknow          *  Mumbai    `<br>\n",
    "    `*  Nagpur           *  Patna            *  Pune      `<br>\n",
    "    `*  Surat                                             `<br>\n",
    "*  It contains the records of the 10 different category of crimes commited namely:<br>\n",
    "    `*  Murder                               *  Kidnapping                   `<br>\n",
    "    `*  Crime against women                  *  Crime against children       `<br>\n",
    "    `*  Crime Committed by Juveniles         *  Crime against Senior Citizen `<br>\n",
    "    `*  Crime against SC                     *  Crime against ST             `<br>\n",
    "    `*  Economic Offences                    *  Cyber Crimes                 `<br>"
   ]
  },
  {
   "cell_type": "markdown",
   "id": "889c79d1-c0cf-46cf-9672-1f51e06323f7",
   "metadata": {
    "jp-MarkdownHeadingCollapsed": true,
    "tags": []
   },
   "source": [
    "<p style=\"font: 20px Georgia; \n",
    "          color: black;\n",
    "          font-style: oblique;\n",
    "          text-align: justify;\n",
    "          padding:15px; \n",
    "          margin-top:20px;\n",
    "          background-color:MistyRose\"> \n",
    "    DATA VISUALISATION\n",
    "</p>"
   ]
  },
  {
   "cell_type": "code",
   "execution_count": 48,
   "id": "b2c71005-ec2c-4e76-b6ba-218aa3784f36",
   "metadata": {
    "tags": []
   },
   "outputs": [
    {
     "data": {
      "image/png": "[encoded data removed]",
      "text/plain": [
       "<Figure size 1000x5000 with 11 Axes>"
      ]
     },
     "metadata": {},
     "output_type": "display_data"
    }
   ],
   "source": [
    "fig, ax = plt.subplots(11, 1, figsize=(10, 50))\n",
    "\n",
    "for i in range(0, 11):\n",
    "    ax[i].barh(dataset['City'], dataset[dataset.columns[i+2]], 0.6, color='Salmon')\n",
    "    ax[i].set_title('City vs ' + dataset.columns[i+2])\n",
    "plt.show()"
   ]
  },
  {
   "cell_type": "markdown",
   "id": "50852dfa-bac4-4de5-b068-460b4a721cbb",
   "metadata": {
    "tags": []
   },
   "source": [
    "<p style=\"font: 20px Georgia; \n",
    "          color: black;\n",
    "          font-style: oblique;\n",
    "          text-align: justify;\n",
    "          padding:15px; \n",
    "          margin-top:20px;\n",
    "          background-color:MistyRose\"> \n",
    "    NEW DATASET CREATION\n",
    "</p>"
   ]
  },
  {
   "cell_type": "code",
   "execution_count": 49,
   "id": "7f135d69-ba7e-4464-8da0-2d0081c03feb",
   "metadata": {},
   "outputs": [
    {
     "name": "stderr",
     "output_type": "stream",
     "text": [
      "C:\\Users\\uvaba\\AppData\\Local\\Temp\\ipykernel_21136\\2150212361.py:7: FutureWarning: The behavior of DataFrame concatenation with empty or all-NA entries is deprecated. In a future version, this will no longer exclude empty or all-NA columns when determining the result dtypes. To retain the old behavior, exclude the relevant entries before the concat operation.\n",
      "  new_df = pd.concat([new_df, temp])\n"
     ]
    }
   ],
   "source": [
    "new_df = pd.DataFrame(columns=['Year', 'City', 'Population (in Lakhs) (2011)+', 'Number Of Cases', 'Type'])\n",
    "for i in range(3, 13):\n",
    "    temp = dataset[['Year', 'City', 'Population (in Lakhs) (2011)+']].copy()\n",
    "    temp['Number Of Cases'] = dataset[[dataset.columns[i]]]\n",
    "    temp['Type'] = dataset.columns[i]\n",
    "    \n",
    "    new_df = pd.concat([new_df, temp])"
   ]
  },
  {
   "cell_type": "code",
   "execution_count": 50,
   "id": "6856b70e-638e-440a-9a34-25288984f0bf",
   "metadata": {
    "tags": []
   },
   "outputs": [
    {
     "data": {
      "text/html": [
       "<div>\n",
       "<style scoped>\n",
       "    .dataframe tbody tr th:only-of-type {\n",
       "        vertical-align: middle;\n",
       "    }\n",
       "\n",
       "    .dataframe tbody tr th {\n",
       "        vertical-align: top;\n",
       "    }\n",
       "\n",
       "    .dataframe thead th {\n",
       "        text-align: right;\n",
       "    }\n",
       "</style>\n",
       "<table border=\"1\" class=\"dataframe\">\n",
       "  <thead>\n",
       "    <tr style=\"text-align: right;\">\n",
       "      <th></th>\n",
       "      <th>Year</th>\n",
       "      <th>City</th>\n",
       "      <th>Population (in Lakhs) (2011)+</th>\n",
       "      <th>Number Of Cases</th>\n",
       "      <th>Type</th>\n",
       "    </tr>\n",
       "  </thead>\n",
       "  <tbody>\n",
       "    <tr>\n",
       "      <th>0</th>\n",
       "      <td>2014</td>\n",
       "      <td>Ahmedabad</td>\n",
       "      <td>63.5</td>\n",
       "      <td>82</td>\n",
       "      <td>Murder</td>\n",
       "    </tr>\n",
       "    <tr>\n",
       "      <th>1</th>\n",
       "      <td>2015</td>\n",
       "      <td>Ahmedabad</td>\n",
       "      <td>63.5</td>\n",
       "      <td>94</td>\n",
       "      <td>Murder</td>\n",
       "    </tr>\n",
       "    <tr>\n",
       "      <th>2</th>\n",
       "      <td>2016</td>\n",
       "      <td>Ahmedabad</td>\n",
       "      <td>63.5</td>\n",
       "      <td>103</td>\n",
       "      <td>Murder</td>\n",
       "    </tr>\n",
       "    <tr>\n",
       "      <th>3</th>\n",
       "      <td>2017</td>\n",
       "      <td>Ahmedabad</td>\n",
       "      <td>63.5</td>\n",
       "      <td>90</td>\n",
       "      <td>Murder</td>\n",
       "    </tr>\n",
       "    <tr>\n",
       "      <th>4</th>\n",
       "      <td>2018</td>\n",
       "      <td>Ahmedabad</td>\n",
       "      <td>63.5</td>\n",
       "      <td>98</td>\n",
       "      <td>Murder</td>\n",
       "    </tr>\n",
       "    <tr>\n",
       "      <th>...</th>\n",
       "      <td>...</td>\n",
       "      <td>...</td>\n",
       "      <td>...</td>\n",
       "      <td>...</td>\n",
       "      <td>...</td>\n",
       "    </tr>\n",
       "    <tr>\n",
       "      <th>147</th>\n",
       "      <td>2017</td>\n",
       "      <td>Surat</td>\n",
       "      <td>45.8</td>\n",
       "      <td>105</td>\n",
       "      <td>Cyber Crimes</td>\n",
       "    </tr>\n",
       "    <tr>\n",
       "      <th>148</th>\n",
       "      <td>2018</td>\n",
       "      <td>Surat</td>\n",
       "      <td>45.8</td>\n",
       "      <td>155</td>\n",
       "      <td>Cyber Crimes</td>\n",
       "    </tr>\n",
       "    <tr>\n",
       "      <th>149</th>\n",
       "      <td>2019</td>\n",
       "      <td>Surat</td>\n",
       "      <td>45.8</td>\n",
       "      <td>228</td>\n",
       "      <td>Cyber Crimes</td>\n",
       "    </tr>\n",
       "    <tr>\n",
       "      <th>150</th>\n",
       "      <td>2020</td>\n",
       "      <td>Surat</td>\n",
       "      <td>45.8</td>\n",
       "      <td>204</td>\n",
       "      <td>Cyber Crimes</td>\n",
       "    </tr>\n",
       "    <tr>\n",
       "      <th>151</th>\n",
       "      <td>2021</td>\n",
       "      <td>Surat</td>\n",
       "      <td>45.8</td>\n",
       "      <td>296</td>\n",
       "      <td>Cyber Crimes</td>\n",
       "    </tr>\n",
       "  </tbody>\n",
       "</table>\n",
       "<p>1520 rows × 5 columns</p>\n",
       "</div>"
      ],
      "text/plain": [
       "     Year       City  Population (in Lakhs) (2011)+ Number Of Cases  \\\n",
       "0    2014  Ahmedabad                           63.5              82   \n",
       "1    2015  Ahmedabad                           63.5              94   \n",
       "2    2016  Ahmedabad                           63.5             103   \n",
       "3    2017  Ahmedabad                           63.5              90   \n",
       "4    2018  Ahmedabad                           63.5              98   \n",
       "..    ...        ...                            ...             ...   \n",
       "147  2017      Surat                           45.8             105   \n",
       "148  2018      Surat                           45.8             155   \n",
       "149  2019      Surat                           45.8             228   \n",
       "150  2020      Surat                           45.8             204   \n",
       "151  2021      Surat                           45.8             296   \n",
       "\n",
       "             Type  \n",
       "0          Murder  \n",
       "1          Murder  \n",
       "2          Murder  \n",
       "3          Murder  \n",
       "4          Murder  \n",
       "..            ...  \n",
       "147  Cyber Crimes  \n",
       "148  Cyber Crimes  \n",
       "149  Cyber Crimes  \n",
       "150  Cyber Crimes  \n",
       "151  Cyber Crimes  \n",
       "\n",
       "[1520 rows x 5 columns]"
      ]
     },
     "execution_count": 50,
     "metadata": {},
     "output_type": "execute_result"
    }
   ],
   "source": [
    "new_df"
   ]
  },
  {
   "cell_type": "markdown",
   "id": "a9780ae2-8d0e-48b4-a392-c25b8755769b",
   "metadata": {},
   "source": [
    "<p style=\"font: 20px Georgia; \n",
    "          color: black;\n",
    "          font-style: oblique;\n",
    "          text-align: justify;\n",
    "          padding:15px; \n",
    "          margin-top:20px;\n",
    "          background-color:MistyRose\"> \n",
    "    DATA PRE-PROCESSING\n",
    "</p>"
   ]
  },
  {
   "cell_type": "markdown",
   "id": "04ad4089-89a7-4a2e-b49e-9beed127201c",
   "metadata": {},
   "source": [
    "<p style=\"font: 15px Georgia; \n",
    "          color: green;\n",
    "          font-style: oblique;\n",
    "          text-align: justify;\"> \n",
    "    The number of cases in each crime category column will be transformed into the crime rate per population(in lakhs).<br>\n",
    "    Crime Rate = Total Crime Cases / Population (in Lakhs)\n",
    "</p>"
   ]
  },
  {
   "cell_type": "code",
   "execution_count": 51,
   "id": "00b717ef-67ea-4173-98be-dc1b12da449d",
   "metadata": {},
   "outputs": [],
   "source": [
    "new_df['Crime Rate'] = new_df['Number Of Cases'] / new_df['Population (in Lakhs) (2011)+']"
   ]
  },
  {
   "cell_type": "code",
   "execution_count": 52,
   "id": "13e7085e-e210-4efe-a43b-f9e20da885ef",
   "metadata": {},
   "outputs": [
    {
     "data": {
      "text/html": [
       "<div>\n",
       "<style scoped>\n",
       "    .dataframe tbody tr th:only-of-type {\n",
       "        vertical-align: middle;\n",
       "    }\n",
       "\n",
       "    .dataframe tbody tr th {\n",
       "        vertical-align: top;\n",
       "    }\n",
       "\n",
       "    .dataframe thead th {\n",
       "        text-align: right;\n",
       "    }\n",
       "</style>\n",
       "<table border=\"1\" class=\"dataframe\">\n",
       "  <thead>\n",
       "    <tr style=\"text-align: right;\">\n",
       "      <th></th>\n",
       "      <th>Year</th>\n",
       "      <th>City</th>\n",
       "      <th>Population (in Lakhs) (2011)+</th>\n",
       "      <th>Number Of Cases</th>\n",
       "      <th>Type</th>\n",
       "      <th>Crime Rate</th>\n",
       "    </tr>\n",
       "  </thead>\n",
       "  <tbody>\n",
       "    <tr>\n",
       "      <th>0</th>\n",
       "      <td>2014</td>\n",
       "      <td>Ahmedabad</td>\n",
       "      <td>63.5</td>\n",
       "      <td>82</td>\n",
       "      <td>Murder</td>\n",
       "      <td>1.291339</td>\n",
       "    </tr>\n",
       "    <tr>\n",
       "      <th>1</th>\n",
       "      <td>2015</td>\n",
       "      <td>Ahmedabad</td>\n",
       "      <td>63.5</td>\n",
       "      <td>94</td>\n",
       "      <td>Murder</td>\n",
       "      <td>1.480315</td>\n",
       "    </tr>\n",
       "    <tr>\n",
       "      <th>2</th>\n",
       "      <td>2016</td>\n",
       "      <td>Ahmedabad</td>\n",
       "      <td>63.5</td>\n",
       "      <td>103</td>\n",
       "      <td>Murder</td>\n",
       "      <td>1.622047</td>\n",
       "    </tr>\n",
       "    <tr>\n",
       "      <th>3</th>\n",
       "      <td>2017</td>\n",
       "      <td>Ahmedabad</td>\n",
       "      <td>63.5</td>\n",
       "      <td>90</td>\n",
       "      <td>Murder</td>\n",
       "      <td>1.417323</td>\n",
       "    </tr>\n",
       "    <tr>\n",
       "      <th>4</th>\n",
       "      <td>2018</td>\n",
       "      <td>Ahmedabad</td>\n",
       "      <td>63.5</td>\n",
       "      <td>98</td>\n",
       "      <td>Murder</td>\n",
       "      <td>1.543307</td>\n",
       "    </tr>\n",
       "    <tr>\n",
       "      <th>...</th>\n",
       "      <td>...</td>\n",
       "      <td>...</td>\n",
       "      <td>...</td>\n",
       "      <td>...</td>\n",
       "      <td>...</td>\n",
       "      <td>...</td>\n",
       "    </tr>\n",
       "    <tr>\n",
       "      <th>147</th>\n",
       "      <td>2017</td>\n",
       "      <td>Surat</td>\n",
       "      <td>45.8</td>\n",
       "      <td>105</td>\n",
       "      <td>Cyber Crimes</td>\n",
       "      <td>2.292576</td>\n",
       "    </tr>\n",
       "    <tr>\n",
       "      <th>148</th>\n",
       "      <td>2018</td>\n",
       "      <td>Surat</td>\n",
       "      <td>45.8</td>\n",
       "      <td>155</td>\n",
       "      <td>Cyber Crimes</td>\n",
       "      <td>3.384279</td>\n",
       "    </tr>\n",
       "    <tr>\n",
       "      <th>149</th>\n",
       "      <td>2019</td>\n",
       "      <td>Surat</td>\n",
       "      <td>45.8</td>\n",
       "      <td>228</td>\n",
       "      <td>Cyber Crimes</td>\n",
       "      <td>4.978166</td>\n",
       "    </tr>\n",
       "    <tr>\n",
       "      <th>150</th>\n",
       "      <td>2020</td>\n",
       "      <td>Surat</td>\n",
       "      <td>45.8</td>\n",
       "      <td>204</td>\n",
       "      <td>Cyber Crimes</td>\n",
       "      <td>4.454148</td>\n",
       "    </tr>\n",
       "    <tr>\n",
       "      <th>151</th>\n",
       "      <td>2021</td>\n",
       "      <td>Surat</td>\n",
       "      <td>45.8</td>\n",
       "      <td>296</td>\n",
       "      <td>Cyber Crimes</td>\n",
       "      <td>6.462882</td>\n",
       "    </tr>\n",
       "  </tbody>\n",
       "</table>\n",
       "<p>1520 rows × 6 columns</p>\n",
       "</div>"
      ],
      "text/plain": [
       "     Year       City  Population (in Lakhs) (2011)+ Number Of Cases  \\\n",
       "0    2014  Ahmedabad                           63.5              82   \n",
       "1    2015  Ahmedabad                           63.5              94   \n",
       "2    2016  Ahmedabad                           63.5             103   \n",
       "3    2017  Ahmedabad                           63.5              90   \n",
       "4    2018  Ahmedabad                           63.5              98   \n",
       "..    ...        ...                            ...             ...   \n",
       "147  2017      Surat                           45.8             105   \n",
       "148  2018      Surat                           45.8             155   \n",
       "149  2019      Surat                           45.8             228   \n",
       "150  2020      Surat                           45.8             204   \n",
       "151  2021      Surat                           45.8             296   \n",
       "\n",
       "             Type Crime Rate  \n",
       "0          Murder   1.291339  \n",
       "1          Murder   1.480315  \n",
       "2          Murder   1.622047  \n",
       "3          Murder   1.417323  \n",
       "4          Murder   1.543307  \n",
       "..            ...        ...  \n",
       "147  Cyber Crimes   2.292576  \n",
       "148  Cyber Crimes   3.384279  \n",
       "149  Cyber Crimes   4.978166  \n",
       "150  Cyber Crimes   4.454148  \n",
       "151  Cyber Crimes   6.462882  \n",
       "\n",
       "[1520 rows x 6 columns]"
      ]
     },
     "execution_count": 52,
     "metadata": {},
     "output_type": "execute_result"
    }
   ],
   "source": [
    "new_df"
   ]
  },
  {
   "cell_type": "markdown",
   "id": "28abe97e-658f-4108-b3c9-41bf85107423",
   "metadata": {},
   "source": [
    "<p style=\"font: 15px Georgia; \n",
    "          color: green;\n",
    "          font-style: oblique;\n",
    "          text-align: justify;\"> \n",
    "    As the Number Of Cases Column is obsolete, it should be dropped\n",
    "</p>"
   ]
  },
  {
   "cell_type": "code",
   "execution_count": 53,
   "id": "93caaf4e-4285-47ae-8e60-de4309af0775",
   "metadata": {},
   "outputs": [],
   "source": [
    "new_df = new_df.drop(['Number Of Cases'], axis=1)"
   ]
  },
  {
   "cell_type": "code",
   "execution_count": 54,
   "id": "51cc0d2d-b17c-4b72-bd10-a6fe572c66ab",
   "metadata": {},
   "outputs": [
    {
     "data": {
      "text/html": [
       "<div>\n",
       "<style scoped>\n",
       "    .dataframe tbody tr th:only-of-type {\n",
       "        vertical-align: middle;\n",
       "    }\n",
       "\n",
       "    .dataframe tbody tr th {\n",
       "        vertical-align: top;\n",
       "    }\n",
       "\n",
       "    .dataframe thead th {\n",
       "        text-align: right;\n",
       "    }\n",
       "</style>\n",
       "<table border=\"1\" class=\"dataframe\">\n",
       "  <thead>\n",
       "    <tr style=\"text-align: right;\">\n",
       "      <th></th>\n",
       "      <th>Year</th>\n",
       "      <th>City</th>\n",
       "      <th>Population (in Lakhs) (2011)+</th>\n",
       "      <th>Type</th>\n",
       "      <th>Crime Rate</th>\n",
       "    </tr>\n",
       "  </thead>\n",
       "  <tbody>\n",
       "    <tr>\n",
       "      <th>0</th>\n",
       "      <td>2014</td>\n",
       "      <td>Ahmedabad</td>\n",
       "      <td>63.5</td>\n",
       "      <td>Murder</td>\n",
       "      <td>1.291339</td>\n",
       "    </tr>\n",
       "    <tr>\n",
       "      <th>1</th>\n",
       "      <td>2015</td>\n",
       "      <td>Ahmedabad</td>\n",
       "      <td>63.5</td>\n",
       "      <td>Murder</td>\n",
       "      <td>1.480315</td>\n",
       "    </tr>\n",
       "    <tr>\n",
       "      <th>2</th>\n",
       "      <td>2016</td>\n",
       "      <td>Ahmedabad</td>\n",
       "      <td>63.5</td>\n",
       "      <td>Murder</td>\n",
       "      <td>1.622047</td>\n",
       "    </tr>\n",
       "    <tr>\n",
       "      <th>3</th>\n",
       "      <td>2017</td>\n",
       "      <td>Ahmedabad</td>\n",
       "      <td>63.5</td>\n",
       "      <td>Murder</td>\n",
       "      <td>1.417323</td>\n",
       "    </tr>\n",
       "    <tr>\n",
       "      <th>4</th>\n",
       "      <td>2018</td>\n",
       "      <td>Ahmedabad</td>\n",
       "      <td>63.5</td>\n",
       "      <td>Murder</td>\n",
       "      <td>1.543307</td>\n",
       "    </tr>\n",
       "    <tr>\n",
       "      <th>...</th>\n",
       "      <td>...</td>\n",
       "      <td>...</td>\n",
       "      <td>...</td>\n",
       "      <td>...</td>\n",
       "      <td>...</td>\n",
       "    </tr>\n",
       "    <tr>\n",
       "      <th>147</th>\n",
       "      <td>2017</td>\n",
       "      <td>Surat</td>\n",
       "      <td>45.8</td>\n",
       "      <td>Cyber Crimes</td>\n",
       "      <td>2.292576</td>\n",
       "    </tr>\n",
       "    <tr>\n",
       "      <th>148</th>\n",
       "      <td>2018</td>\n",
       "      <td>Surat</td>\n",
       "      <td>45.8</td>\n",
       "      <td>Cyber Crimes</td>\n",
       "      <td>3.384279</td>\n",
       "    </tr>\n",
       "    <tr>\n",
       "      <th>149</th>\n",
       "      <td>2019</td>\n",
       "      <td>Surat</td>\n",
       "      <td>45.8</td>\n",
       "      <td>Cyber Crimes</td>\n",
       "      <td>4.978166</td>\n",
       "    </tr>\n",
       "    <tr>\n",
       "      <th>150</th>\n",
       "      <td>2020</td>\n",
       "      <td>Surat</td>\n",
       "      <td>45.8</td>\n",
       "      <td>Cyber Crimes</td>\n",
       "      <td>4.454148</td>\n",
       "    </tr>\n",
       "    <tr>\n",
       "      <th>151</th>\n",
       "      <td>2021</td>\n",
       "      <td>Surat</td>\n",
       "      <td>45.8</td>\n",
       "      <td>Cyber Crimes</td>\n",
       "      <td>6.462882</td>\n",
       "    </tr>\n",
       "  </tbody>\n",
       "</table>\n",
       "<p>1520 rows × 5 columns</p>\n",
       "</div>"
      ],
      "text/plain": [
       "     Year       City  Population (in Lakhs) (2011)+          Type Crime Rate\n",
       "0    2014  Ahmedabad                           63.5        Murder   1.291339\n",
       "1    2015  Ahmedabad                           63.5        Murder   1.480315\n",
       "2    2016  Ahmedabad                           63.5        Murder   1.622047\n",
       "3    2017  Ahmedabad                           63.5        Murder   1.417323\n",
       "4    2018  Ahmedabad                           63.5        Murder   1.543307\n",
       "..    ...        ...                            ...           ...        ...\n",
       "147  2017      Surat                           45.8  Cyber Crimes   2.292576\n",
       "148  2018      Surat                           45.8  Cyber Crimes   3.384279\n",
       "149  2019      Surat                           45.8  Cyber Crimes   4.978166\n",
       "150  2020      Surat                           45.8  Cyber Crimes   4.454148\n",
       "151  2021      Surat                           45.8  Cyber Crimes   6.462882\n",
       "\n",
       "[1520 rows x 5 columns]"
      ]
     },
     "execution_count": 54,
     "metadata": {},
     "output_type": "execute_result"
    }
   ],
   "source": [
    "new_df"
   ]
  },
  {
   "cell_type": "code",
   "execution_count": 55,
   "id": "7bcfa58f-39d2-4174-9f11-dec0cbc58a69",
   "metadata": {},
   "outputs": [],
   "source": [
    "# saving the new dataset as an excel file\n",
    "new_df.to_excel(\"Dataset/new_dataset.xlsx\", index=False, sheet_name ='Sheet1')"
   ]
  },
  {
   "cell_type": "markdown",
   "id": "e10f9988-bf5f-434a-b7e6-f7b0d5d7e826",
   "metadata": {},
   "source": [
    "<p style=\"font: 20px Georgia; \n",
    "          color: black;\n",
    "          font-style: oblique;\n",
    "          text-align: justify;\n",
    "          margin-top:20px;\n",
    "          padding:15px; \n",
    "          background-color:MistyRose\"> \n",
    "    LOADING THE NEW DATASET\n",
    "</p>"
   ]
  },
  {
   "cell_type": "code",
   "execution_count": 56,
   "id": "7a78f840-583f-4427-b49c-f1de68e162fe",
   "metadata": {},
   "outputs": [],
   "source": [
    "new_dataset = pd.read_excel(\"Dataset/new_dataset.xlsx\", sheet_name=\"Sheet1\")"
   ]
  },
  {
   "cell_type": "code",
   "execution_count": 57,
   "id": "e2ab8c63-5797-4e4c-9170-d2ef89f36e01",
   "metadata": {},
   "outputs": [
    {
     "data": {
      "text/html": [
       "<div>\n",
       "<style scoped>\n",
       "    .dataframe tbody tr th:only-of-type {\n",
       "        vertical-align: middle;\n",
       "    }\n",
       "\n",
       "    .dataframe tbody tr th {\n",
       "        vertical-align: top;\n",
       "    }\n",
       "\n",
       "    .dataframe thead th {\n",
       "        text-align: right;\n",
       "    }\n",
       "</style>\n",
       "<table border=\"1\" class=\"dataframe\">\n",
       "  <thead>\n",
       "    <tr style=\"text-align: right;\">\n",
       "      <th></th>\n",
       "      <th>Year</th>\n",
       "      <th>City</th>\n",
       "      <th>Population (in Lakhs) (2011)+</th>\n",
       "      <th>Type</th>\n",
       "      <th>Crime Rate</th>\n",
       "    </tr>\n",
       "  </thead>\n",
       "  <tbody>\n",
       "    <tr>\n",
       "      <th>0</th>\n",
       "      <td>2014</td>\n",
       "      <td>Ahmedabad</td>\n",
       "      <td>63.5</td>\n",
       "      <td>Murder</td>\n",
       "      <td>1.291339</td>\n",
       "    </tr>\n",
       "    <tr>\n",
       "      <th>1</th>\n",
       "      <td>2015</td>\n",
       "      <td>Ahmedabad</td>\n",
       "      <td>63.5</td>\n",
       "      <td>Murder</td>\n",
       "      <td>1.480315</td>\n",
       "    </tr>\n",
       "    <tr>\n",
       "      <th>2</th>\n",
       "      <td>2016</td>\n",
       "      <td>Ahmedabad</td>\n",
       "      <td>63.5</td>\n",
       "      <td>Murder</td>\n",
       "      <td>1.622047</td>\n",
       "    </tr>\n",
       "    <tr>\n",
       "      <th>3</th>\n",
       "      <td>2017</td>\n",
       "      <td>Ahmedabad</td>\n",
       "      <td>63.5</td>\n",
       "      <td>Murder</td>\n",
       "      <td>1.417323</td>\n",
       "    </tr>\n",
       "    <tr>\n",
       "      <th>4</th>\n",
       "      <td>2018</td>\n",
       "      <td>Ahmedabad</td>\n",
       "      <td>63.5</td>\n",
       "      <td>Murder</td>\n",
       "      <td>1.543307</td>\n",
       "    </tr>\n",
       "    <tr>\n",
       "      <th>...</th>\n",
       "      <td>...</td>\n",
       "      <td>...</td>\n",
       "      <td>...</td>\n",
       "      <td>...</td>\n",
       "      <td>...</td>\n",
       "    </tr>\n",
       "    <tr>\n",
       "      <th>1515</th>\n",
       "      <td>2017</td>\n",
       "      <td>Surat</td>\n",
       "      <td>45.8</td>\n",
       "      <td>Cyber Crimes</td>\n",
       "      <td>2.292576</td>\n",
       "    </tr>\n",
       "    <tr>\n",
       "      <th>1516</th>\n",
       "      <td>2018</td>\n",
       "      <td>Surat</td>\n",
       "      <td>45.8</td>\n",
       "      <td>Cyber Crimes</td>\n",
       "      <td>3.384279</td>\n",
       "    </tr>\n",
       "    <tr>\n",
       "      <th>1517</th>\n",
       "      <td>2019</td>\n",
       "      <td>Surat</td>\n",
       "      <td>45.8</td>\n",
       "      <td>Cyber Crimes</td>\n",
       "      <td>4.978166</td>\n",
       "    </tr>\n",
       "    <tr>\n",
       "      <th>1518</th>\n",
       "      <td>2020</td>\n",
       "      <td>Surat</td>\n",
       "      <td>45.8</td>\n",
       "      <td>Cyber Crimes</td>\n",
       "      <td>4.454148</td>\n",
       "    </tr>\n",
       "    <tr>\n",
       "      <th>1519</th>\n",
       "      <td>2021</td>\n",
       "      <td>Surat</td>\n",
       "      <td>45.8</td>\n",
       "      <td>Cyber Crimes</td>\n",
       "      <td>6.462882</td>\n",
       "    </tr>\n",
       "  </tbody>\n",
       "</table>\n",
       "<p>1520 rows × 5 columns</p>\n",
       "</div>"
      ],
      "text/plain": [
       "      Year       City  Population (in Lakhs) (2011)+          Type  Crime Rate\n",
       "0     2014  Ahmedabad                           63.5        Murder    1.291339\n",
       "1     2015  Ahmedabad                           63.5        Murder    1.480315\n",
       "2     2016  Ahmedabad                           63.5        Murder    1.622047\n",
       "3     2017  Ahmedabad                           63.5        Murder    1.417323\n",
       "4     2018  Ahmedabad                           63.5        Murder    1.543307\n",
       "...    ...        ...                            ...           ...         ...\n",
       "1515  2017      Surat                           45.8  Cyber Crimes    2.292576\n",
       "1516  2018      Surat                           45.8  Cyber Crimes    3.384279\n",
       "1517  2019      Surat                           45.8  Cyber Crimes    4.978166\n",
       "1518  2020      Surat                           45.8  Cyber Crimes    4.454148\n",
       "1519  2021      Surat                           45.8  Cyber Crimes    6.462882\n",
       "\n",
       "[1520 rows x 5 columns]"
      ]
     },
     "execution_count": 57,
     "metadata": {},
     "output_type": "execute_result"
    }
   ],
   "source": [
    "new_dataset"
   ]
  },
  {
   "cell_type": "code",
   "execution_count": 58,
   "id": "57d9d6de-3da1-4478-a492-090e6adcf36a",
   "metadata": {},
   "outputs": [
    {
     "name": "stdout",
     "output_type": "stream",
     "text": [
      "<class 'pandas.core.frame.DataFrame'>\n",
      "RangeIndex: 1520 entries, 0 to 1519\n",
      "Data columns (total 5 columns):\n",
      " #   Column                         Non-Null Count  Dtype  \n",
      "---  ------                         --------------  -----  \n",
      " 0   Year                           1520 non-null   int64  \n",
      " 1   City                           1520 non-null   object \n",
      " 2   Population (in Lakhs) (2011)+  1520 non-null   float64\n",
      " 3   Type                           1520 non-null   object \n",
      " 4   Crime Rate                     1520 non-null   float64\n",
      "dtypes: float64(2), int64(1), object(2)\n",
      "memory usage: 59.5+ KB\n"
     ]
    }
   ],
   "source": [
    "new_dataset.info()"
   ]
  },
  {
   "cell_type": "code",
   "execution_count": 59,
   "id": "c3ba618e-eff3-4b4d-ad02-8eb74780bc10",
   "metadata": {},
   "outputs": [
    {
     "data": {
      "text/html": [
       "<div>\n",
       "<style scoped>\n",
       "    .dataframe tbody tr th:only-of-type {\n",
       "        vertical-align: middle;\n",
       "    }\n",
       "\n",
       "    .dataframe tbody tr th {\n",
       "        vertical-align: top;\n",
       "    }\n",
       "\n",
       "    .dataframe thead th {\n",
       "        text-align: right;\n",
       "    }\n",
       "</style>\n",
       "<table border=\"1\" class=\"dataframe\">\n",
       "  <thead>\n",
       "    <tr style=\"text-align: right;\">\n",
       "      <th></th>\n",
       "      <th>Year</th>\n",
       "      <th>Population (in Lakhs) (2011)+</th>\n",
       "      <th>Crime Rate</th>\n",
       "    </tr>\n",
       "  </thead>\n",
       "  <tbody>\n",
       "    <tr>\n",
       "      <th>count</th>\n",
       "      <td>1520.000000</td>\n",
       "      <td>1520.000000</td>\n",
       "      <td>1520.000000</td>\n",
       "    </tr>\n",
       "    <tr>\n",
       "      <th>mean</th>\n",
       "      <td>2017.500000</td>\n",
       "      <td>60.015789</td>\n",
       "      <td>11.581238</td>\n",
       "    </tr>\n",
       "    <tr>\n",
       "      <th>std</th>\n",
       "      <td>2.292042</td>\n",
       "      <td>50.006465</td>\n",
       "      <td>19.529756</td>\n",
       "    </tr>\n",
       "    <tr>\n",
       "      <th>min</th>\n",
       "      <td>2014.000000</td>\n",
       "      <td>20.300000</td>\n",
       "      <td>0.000000</td>\n",
       "    </tr>\n",
       "    <tr>\n",
       "      <th>25%</th>\n",
       "      <td>2015.750000</td>\n",
       "      <td>21.700000</td>\n",
       "      <td>0.943396</td>\n",
       "    </tr>\n",
       "    <tr>\n",
       "      <th>50%</th>\n",
       "      <td>2017.500000</td>\n",
       "      <td>30.700000</td>\n",
       "      <td>4.065514</td>\n",
       "    </tr>\n",
       "    <tr>\n",
       "      <th>75%</th>\n",
       "      <td>2019.250000</td>\n",
       "      <td>85.000000</td>\n",
       "      <td>14.486662</td>\n",
       "    </tr>\n",
       "    <tr>\n",
       "      <th>max</th>\n",
       "      <td>2021.000000</td>\n",
       "      <td>184.100000</td>\n",
       "      <td>198.925081</td>\n",
       "    </tr>\n",
       "  </tbody>\n",
       "</table>\n",
       "</div>"
      ],
      "text/plain": [
       "              Year  Population (in Lakhs) (2011)+   Crime Rate\n",
       "count  1520.000000                    1520.000000  1520.000000\n",
       "mean   2017.500000                      60.015789    11.581238\n",
       "std       2.292042                      50.006465    19.529756\n",
       "min    2014.000000                      20.300000     0.000000\n",
       "25%    2015.750000                      21.700000     0.943396\n",
       "50%    2017.500000                      30.700000     4.065514\n",
       "75%    2019.250000                      85.000000    14.486662\n",
       "max    2021.000000                     184.100000   198.925081"
      ]
     },
     "execution_count": 59,
     "metadata": {},
     "output_type": "execute_result"
    }
   ],
   "source": [
    "new_dataset.describe()"
   ]
  },
  {
   "cell_type": "markdown",
   "id": "f9aa2849-8298-43f0-a834-bd5c3a7d400b",
   "metadata": {},
   "source": [
    "<p style=\"font: 15px Georgia; \n",
    "          color: green;\n",
    "          font-style: oblique;\n",
    "          text-align: justify;\"> \n",
    "    The data is clean with no null values with column city and type as object/categorical Dtype.\n",
    "</p>"
   ]
  },
  {
   "cell_type": "markdown",
   "id": "ee626add-3ee6-42f1-ac0f-21538f5ff98e",
   "metadata": {
    "tags": []
   },
   "source": [
    "<p style=\"font: 20px Georgia; \n",
    "          color: black;\n",
    "          font-style: oblique;\n",
    "          text-align: justify;\n",
    "          padding:15px; \n",
    "          margin-top:20px;\n",
    "          background-color:MistyRose\"> \n",
    "    LABEL ENCODING\n",
    "</p>"
   ]
  },
  {
   "cell_type": "markdown",
   "id": "6bf34c99-d5a1-4d89-bb11-4c1af932e504",
   "metadata": {},
   "source": [
    "<p style=\"font: 15px Georgia; \n",
    "          color: green;\n",
    "          font-style: oblique;\n",
    "          text-align: justify;\"> \n",
    "    Since two columns in our dataset has categorical values i.e City and Type. <br>\n",
    "    Thus, to make them machine-readable, we must convert them to numeric labels.\n",
    "</p>"
   ]
  },
  {
   "cell_type": "code",
   "execution_count": 60,
   "id": "930f2465-e742-436f-ac80-abb44805efd2",
   "metadata": {},
   "outputs": [],
   "source": [
    "le = LabelEncoder()"
   ]
  },
  {
   "cell_type": "code",
   "execution_count": 61,
   "id": "853d1034-29de-424e-ab82-6e319d2d0772",
   "metadata": {},
   "outputs": [],
   "source": [
    "new_dataset['City'] = le.fit_transform(new_dataset['City'])\n",
    "mapping = dict(zip(le.classes_, range(len(le.classes_))))"
   ]
  },
  {
   "cell_type": "code",
   "execution_count": 62,
   "id": "e5d38435-4e0f-478b-b91b-855a441e1b6b",
   "metadata": {},
   "outputs": [
    {
     "name": "stdout",
     "output_type": "stream",
     "text": [
      "Ahmedabad - 0\n",
      "\n",
      "Bengaluru - 1\n",
      "\n",
      "Chennai - 2\n",
      "\n",
      "Coimbatore - 3\n",
      "\n",
      "Delhi - 4\n",
      "\n",
      "Ghaziabad - 5\n",
      "\n",
      "Hyderabad - 6\n",
      "\n",
      "Indore - 7\n",
      "\n",
      "Jaipur - 8\n",
      "\n",
      "Kanpur - 9\n",
      "\n",
      "Kochi - 10\n",
      "\n",
      "Kolkata - 11\n",
      "\n",
      "Kozhikode - 12\n",
      "\n",
      "Lucknow - 13\n",
      "\n",
      "Mumbai - 14\n",
      "\n",
      "Nagpur - 15\n",
      "\n",
      "Patna - 16\n",
      "\n",
      "Pune - 17\n",
      "\n",
      "Surat - 18\n",
      "\n"
     ]
    }
   ],
   "source": [
    "# Saving the mapping file for further use\n",
    "file = open('Mappings/City_Mapping.txt', 'wt')\n",
    "for key,val in mapping.items():\n",
    "    print(str(key) + \" - \" + str(val) + '\\n')\n",
    "    file.write(str(key) + \" - \" + str(val) + '\\n')"
   ]
  },
  {
   "cell_type": "code",
   "execution_count": 63,
   "id": "4335a6c0-0d2b-44eb-ac1d-78098ff48f5c",
   "metadata": {},
   "outputs": [],
   "source": [
    "new_dataset['Type'] = le.fit_transform(new_dataset['Type'])\n",
    "mapping = dict(zip(le.classes_, range(len(le.classes_))))"
   ]
  },
  {
   "cell_type": "code",
   "execution_count": 64,
   "id": "c1c9048a-dd3a-4cca-b3f5-f9ee7535ada5",
   "metadata": {},
   "outputs": [
    {
     "name": "stdout",
     "output_type": "stream",
     "text": [
      "Crime Committed by Juveniles - 0\n",
      "\n",
      "Crime against SC - 1\n",
      "\n",
      "Crime against ST - 2\n",
      "\n",
      "Crime against Senior Citizen - 3\n",
      "\n",
      "Crime against children - 4\n",
      "\n",
      "Crime against women - 5\n",
      "\n",
      "Cyber Crimes - 6\n",
      "\n",
      "Economic Offences - 7\n",
      "\n",
      "Kidnapping - 8\n",
      "\n",
      "Murder - 9\n",
      "\n"
     ]
    }
   ],
   "source": [
    "# Saving the mapping file for further use\n",
    "file = open('Mappings/Type_Mapping.txt', 'wt')\n",
    "for key,val in mapping.items():\n",
    "    print(str(key) + \" - \" + str(val) + '\\n')\n",
    "    file.write(str(key) + \" - \" + str(val) + '\\n')"
   ]
  },
  {
   "cell_type": "code",
   "execution_count": 65,
   "id": "aef47db7-2f74-41f4-83b2-185355459550",
   "metadata": {},
   "outputs": [
    {
     "data": {
      "text/html": [
       "<div>\n",
       "<style scoped>\n",
       "    .dataframe tbody tr th:only-of-type {\n",
       "        vertical-align: middle;\n",
       "    }\n",
       "\n",
       "    .dataframe tbody tr th {\n",
       "        vertical-align: top;\n",
       "    }\n",
       "\n",
       "    .dataframe thead th {\n",
       "        text-align: right;\n",
       "    }\n",
       "</style>\n",
       "<table border=\"1\" class=\"dataframe\">\n",
       "  <thead>\n",
       "    <tr style=\"text-align: right;\">\n",
       "      <th></th>\n",
       "      <th>Year</th>\n",
       "      <th>City</th>\n",
       "      <th>Population (in Lakhs) (2011)+</th>\n",
       "      <th>Type</th>\n",
       "      <th>Crime Rate</th>\n",
       "    </tr>\n",
       "  </thead>\n",
       "  <tbody>\n",
       "    <tr>\n",
       "      <th>0</th>\n",
       "      <td>2014</td>\n",
       "      <td>0</td>\n",
       "      <td>63.5</td>\n",
       "      <td>9</td>\n",
       "      <td>1.291339</td>\n",
       "    </tr>\n",
       "    <tr>\n",
       "      <th>1</th>\n",
       "      <td>2015</td>\n",
       "      <td>0</td>\n",
       "      <td>63.5</td>\n",
       "      <td>9</td>\n",
       "      <td>1.480315</td>\n",
       "    </tr>\n",
       "    <tr>\n",
       "      <th>2</th>\n",
       "      <td>2016</td>\n",
       "      <td>0</td>\n",
       "      <td>63.5</td>\n",
       "      <td>9</td>\n",
       "      <td>1.622047</td>\n",
       "    </tr>\n",
       "    <tr>\n",
       "      <th>3</th>\n",
       "      <td>2017</td>\n",
       "      <td>0</td>\n",
       "      <td>63.5</td>\n",
       "      <td>9</td>\n",
       "      <td>1.417323</td>\n",
       "    </tr>\n",
       "    <tr>\n",
       "      <th>4</th>\n",
       "      <td>2018</td>\n",
       "      <td>0</td>\n",
       "      <td>63.5</td>\n",
       "      <td>9</td>\n",
       "      <td>1.543307</td>\n",
       "    </tr>\n",
       "    <tr>\n",
       "      <th>...</th>\n",
       "      <td>...</td>\n",
       "      <td>...</td>\n",
       "      <td>...</td>\n",
       "      <td>...</td>\n",
       "      <td>...</td>\n",
       "    </tr>\n",
       "    <tr>\n",
       "      <th>1515</th>\n",
       "      <td>2017</td>\n",
       "      <td>18</td>\n",
       "      <td>45.8</td>\n",
       "      <td>6</td>\n",
       "      <td>2.292576</td>\n",
       "    </tr>\n",
       "    <tr>\n",
       "      <th>1516</th>\n",
       "      <td>2018</td>\n",
       "      <td>18</td>\n",
       "      <td>45.8</td>\n",
       "      <td>6</td>\n",
       "      <td>3.384279</td>\n",
       "    </tr>\n",
       "    <tr>\n",
       "      <th>1517</th>\n",
       "      <td>2019</td>\n",
       "      <td>18</td>\n",
       "      <td>45.8</td>\n",
       "      <td>6</td>\n",
       "      <td>4.978166</td>\n",
       "    </tr>\n",
       "    <tr>\n",
       "      <th>1518</th>\n",
       "      <td>2020</td>\n",
       "      <td>18</td>\n",
       "      <td>45.8</td>\n",
       "      <td>6</td>\n",
       "      <td>4.454148</td>\n",
       "    </tr>\n",
       "    <tr>\n",
       "      <th>1519</th>\n",
       "      <td>2021</td>\n",
       "      <td>18</td>\n",
       "      <td>45.8</td>\n",
       "      <td>6</td>\n",
       "      <td>6.462882</td>\n",
       "    </tr>\n",
       "  </tbody>\n",
       "</table>\n",
       "<p>1520 rows × 5 columns</p>\n",
       "</div>"
      ],
      "text/plain": [
       "      Year  City  Population (in Lakhs) (2011)+  Type  Crime Rate\n",
       "0     2014     0                           63.5     9    1.291339\n",
       "1     2015     0                           63.5     9    1.480315\n",
       "2     2016     0                           63.5     9    1.622047\n",
       "3     2017     0                           63.5     9    1.417323\n",
       "4     2018     0                           63.5     9    1.543307\n",
       "...    ...   ...                            ...   ...         ...\n",
       "1515  2017    18                           45.8     6    2.292576\n",
       "1516  2018    18                           45.8     6    3.384279\n",
       "1517  2019    18                           45.8     6    4.978166\n",
       "1518  2020    18                           45.8     6    4.454148\n",
       "1519  2021    18                           45.8     6    6.462882\n",
       "\n",
       "[1520 rows x 5 columns]"
      ]
     },
     "execution_count": 65,
     "metadata": {},
     "output_type": "execute_result"
    }
   ],
   "source": [
    "new_dataset"
   ]
  },
  {
   "cell_type": "markdown",
   "id": "6c06944b-d651-4c13-8baa-68ec2bc18e0f",
   "metadata": {
    "tags": []
   },
   "source": [
    "<p style=\"font: 20px Georgia; \n",
    "          color: black;\n",
    "          font-style: oblique;\n",
    "          text-align: justify;\n",
    "          padding:15px; \n",
    "          background-color:MistyRose\"> \n",
    "    SPLITTING OF DATASET FOR TRAINING / TESTING\n",
    "</p>"
   ]
  },
  {
   "cell_type": "code",
   "execution_count": 66,
   "id": "0ddfb94c-de84-4570-b3c3-d8fb3f402709",
   "metadata": {},
   "outputs": [
    {
     "data": {
      "text/plain": [
       "array([[2014. ,    0. ,   63.5,    9. ],\n",
       "       [2015. ,    0. ,   63.5,    9. ],\n",
       "       [2016. ,    0. ,   63.5,    9. ],\n",
       "       ...,\n",
       "       [2019. ,   18. ,   45.8,    6. ],\n",
       "       [2020. ,   18. ,   45.8,    6. ],\n",
       "       [2021. ,   18. ,   45.8,    6. ]], shape=(1520, 4))"
      ]
     },
     "execution_count": 66,
     "metadata": {},
     "output_type": "execute_result"
    }
   ],
   "source": [
    "x = new_dataset[new_dataset.columns[0:4]].values\n",
    "x"
   ]
  },
  {
   "cell_type": "code",
   "execution_count": 67,
   "id": "f0d409b0-df6d-41cf-af37-21cd514970f4",
   "metadata": {},
   "outputs": [
    {
     "data": {
      "text/plain": [
       "array([1.29133858, 1.48031496, 1.62204724, ..., 4.97816594, 4.45414847,\n",
       "       6.4628821 ], shape=(1520,))"
      ]
     },
     "execution_count": 67,
     "metadata": {},
     "output_type": "execute_result"
    }
   ],
   "source": [
    "y = new_dataset['Crime Rate'].values\n",
    "y"
   ]
  },
  {
   "cell_type": "code",
   "execution_count": 68,
   "id": "8bdf1869-3840-4acb-b7d7-e6d04bd8931a",
   "metadata": {},
   "outputs": [],
   "source": [
    "x_train, x_test, y_train, y_test = train_test_split(x, y, test_size=0.20, random_state=50)"
   ]
  },
  {
   "cell_type": "code",
   "execution_count": 69,
   "id": "f35d54ac-1f04-4415-93df-1e5a84f04e21",
   "metadata": {},
   "outputs": [
    {
     "data": {
      "text/plain": [
       "array([[2.018e+03, 8.000e+00, 3.070e+01, 1.000e+00],\n",
       "       [2.015e+03, 1.200e+01, 2.030e+01, 3.000e+00],\n",
       "       [2.014e+03, 5.000e+00, 2.360e+01, 6.000e+00],\n",
       "       ...,\n",
       "       [2.015e+03, 1.200e+01, 2.030e+01, 7.000e+00],\n",
       "       [2.019e+03, 1.300e+01, 2.900e+01, 9.000e+00],\n",
       "       [2.014e+03, 1.700e+01, 5.050e+01, 6.000e+00]], shape=(1216, 4))"
      ]
     },
     "execution_count": 69,
     "metadata": {},
     "output_type": "execute_result"
    }
   ],
   "source": [
    "x_train"
   ]
  },
  {
   "cell_type": "markdown",
   "id": "d7c66e80",
   "metadata": {},
   "source": []
  },
  {
   "cell_type": "code",
   "execution_count": 70,
   "id": "ad090ec6-546a-4cb4-a6fa-b069caf3fe8c",
   "metadata": {},
   "outputs": [
    {
     "data": {
      "text/plain": [
       "array([ 5.86319218,  0.98522167,  2.58474576, ..., 12.95566502,\n",
       "        2.5862069 ,  2.77227723], shape=(1216,))"
      ]
     },
     "execution_count": 70,
     "metadata": {},
     "output_type": "execute_result"
    }
   ],
   "source": [
    "y_train"
   ]
  },
  {
   "cell_type": "markdown",
   "id": "89a981b4-c414-420b-a3d9-e29c890aeddd",
   "metadata": {
    "tags": []
   },
   "source": [
    "<p style=\"font: 20px Georgia; \n",
    "          color: black;\n",
    "          font-style: oblique;\n",
    "          text-align: justify;\n",
    "          padding:15px; \n",
    "          background-color:MistyRose\"> \n",
    "    MODEL CREATION\n",
    "</p>"
   ]
  },
  {
   "cell_type": "markdown",
   "id": "30a08073-7f4b-4ebf-b155-1ef52f5de207",
   "metadata": {},
   "source": [
    "<p style=\"font: 20px Georgia; \n",
    "          color: black;\n",
    "          font-style: oblique;\n",
    "          text-align: justify;\n",
    "          padding:15px; \n",
    "          background-color:PaleTurquoise\"> \n",
    "    Support Vector Machine\n",
    "</p>"
   ]
  },
  {
   "cell_type": "code",
   "execution_count": 71,
   "id": "9da424b1-f264-422e-a56e-e1654603c52e",
   "metadata": {},
   "outputs": [],
   "source": [
    "model1 = svm.SVR()\n",
    "model1.fit(x_train, y_train)\n",
    "y_pred = model1.predict(x_test)"
   ]
  },
  {
   "cell_type": "code",
   "execution_count": 72,
   "id": "1890b4e9-b470-43e5-a5e6-e354b200719e",
   "metadata": {},
   "outputs": [
    {
     "name": "stdout",
     "output_type": "stream",
     "text": [
      "Mean Absolute Error: 10.320485537023602\n",
      "Mean Squared Error: 371.7907414958839\n",
      "R2 score: -0.17886853639175593\n"
     ]
    }
   ],
   "source": [
    "print('Mean Absolute Error:', metrics.mean_absolute_error(y_test, y_pred))\n",
    "print('Mean Squared Error:', metrics.mean_squared_error(y_test, y_pred))\n",
    "print('R2 score:', metrics.r2_score(y_test, y_pred))"
   ]
  },
  {
   "cell_type": "markdown",
   "id": "cf3f4db5-007d-4d73-a969-a0faf9f5a052",
   "metadata": {},
   "source": [
    "<p style=\"font: 20px Georgia; \n",
    "          color: black;\n",
    "          font-style: oblique;\n",
    "          text-align: justify;\n",
    "          padding:15px; \n",
    "          background-color:PaleTurquoise \"> \n",
    "    Nearest Neighbour\n",
    "</p> "
   ]
  },
  {
   "cell_type": "code",
   "execution_count": 73,
   "id": "4a8c1d1c-8714-4ee4-a40b-e427c7428489",
   "metadata": {},
   "outputs": [],
   "source": [
    "model2 = KNeighborsRegressor(n_neighbors=2)\n",
    "model2.fit(x_train, y_train)\n",
    "y_pred = model2.predict(x_test)"
   ]
  },
  {
   "cell_type": "code",
   "execution_count": 74,
   "id": "43101771-3d97-455a-ba62-fbb4083c5447",
   "metadata": {},
   "outputs": [
    {
     "name": "stdout",
     "output_type": "stream",
     "text": [
      "Mean Absolute Error: 6.846579820991532\n",
      "Mean Squared Error: 150.44504177108698\n",
      "R2 score: 0.5229711060407313\n"
     ]
    }
   ],
   "source": [
    "print('Mean Absolute Error:', metrics.mean_absolute_error(y_test, y_pred))\n",
    "print('Mean Squared Error:', metrics.mean_squared_error(y_test, y_pred))\n",
    "print('R2 score:', metrics.r2_score(y_test, y_pred))"
   ]
  },
  {
   "cell_type": "markdown",
   "id": "1b7ccf93-725a-49bc-b6dc-a2ef50ba5bdc",
   "metadata": {},
   "source": [
    "<p style=\"font: 20px Georgia; \n",
    "          color: black;\n",
    "          font-style: oblique;\n",
    "          text-align: justify;\n",
    "          padding:15px; \n",
    "          background-color:PaleTurquoise \"> \n",
    "    Decision Tree Regressor\n",
    "</p>"
   ]
  },
  {
   "cell_type": "code",
   "execution_count": 75,
   "id": "48f84fdd-12d6-4b58-9f91-f29b643cb287",
   "metadata": {},
   "outputs": [],
   "source": [
    "model3 = tree.DecisionTreeRegressor()\n",
    "model3.fit(x_train, y_train)\n",
    "y_pred = model3.predict(x_test)"
   ]
  },
  {
   "cell_type": "code",
   "execution_count": 76,
   "id": "541220e5-4718-465e-8b42-7e66bdfbfd92",
   "metadata": {},
   "outputs": [
    {
     "name": "stdout",
     "output_type": "stream",
     "text": [
      "Mean Absolute Error: 2.886513527913032\n",
      "Mean Squared Error: 34.877683380604765\n",
      "R2 score: 0.8894103618766854\n"
     ]
    }
   ],
   "source": [
    "print('Mean Absolute Error:', metrics.mean_absolute_error(y_test, y_pred))\n",
    "print('Mean Squared Error:', metrics.mean_squared_error(y_test, y_pred))\n",
    "print('R2 score:', metrics.r2_score(y_test, y_pred))"
   ]
  },
  {
   "cell_type": "markdown",
   "id": "013e7322-e874-44f3-b779-778182626b76",
   "metadata": {},
   "source": [
    "<p style=\"font: 20px Georgia; \n",
    "          color: black;\n",
    "          font-style: oblique;\n",
    "          text-align: justify;\n",
    "          padding:15px; \n",
    "          background-color:PaleTurquoise \"> \n",
    "    Random Forest Regressor\n",
    "</p>"
   ]
  },
  {
   "cell_type": "code",
   "execution_count": 77,
   "id": "95177430-68c6-482d-b658-10f4d0f85e5e",
   "metadata": {},
   "outputs": [],
   "source": [
    "model4 = RandomForestRegressor(random_state=0)\n",
    "model4.fit(x_train, y_train)\n",
    "y_pred = model4.predict(x_test)"
   ]
  },
  {
   "cell_type": "code",
   "execution_count": 78,
   "id": "81be7d43-61e3-496a-b2d7-0d14050a2d3b",
   "metadata": {},
   "outputs": [
    {
     "name": "stdout",
     "output_type": "stream",
     "text": [
      "Mean Absolute Error: 2.487973049950136\n",
      "Mean Squared Error: 21.362971441526998\n",
      "R2 score: 0.9322626088672231\n"
     ]
    }
   ],
   "source": [
    "print('Mean Absolute Error:', metrics.mean_absolute_error(y_test, y_pred))\n",
    "print('Mean Squared Error:', metrics.mean_squared_error(y_test, y_pred))\n",
    "print('R2 score:', metrics.r2_score(y_test, y_pred))"
   ]
  },
  {
   "cell_type": "markdown",
   "id": "35bf844a-7973-43be-bd50-f93c7b97d3df",
   "metadata": {},
   "source": [
    "<p style=\"font: 20px Georgia; \n",
    "          color: black;\n",
    "          font-style: oblique;\n",
    "          text-align: justify;\n",
    "          padding:15px; \n",
    "          background-color:PaleTurquoise \"> \n",
    "    Neural Networks MLPRegressor\n",
    "</p>"
   ]
  },
  {
   "cell_type": "code",
   "execution_count": 79,
   "id": "258fa09a-40b0-4f15-8307-147b76b7090b",
   "metadata": {},
   "outputs": [],
   "source": [
    "model5 = MLPRegressor(random_state=0)\n",
    "model5.fit(x_train, y_train)\n",
    "y_pred = model5.predict(x_test)"
   ]
  },
  {
   "cell_type": "code",
   "execution_count": 80,
   "id": "fd7b691a-6b5d-48d0-8875-6192bee0ae83",
   "metadata": {},
   "outputs": [
    {
     "name": "stdout",
     "output_type": "stream",
     "text": [
      "Mean Absolute Error: 12.42483819629253\n",
      "Mean Squared Error: 307.55062475298035\n",
      "R2 score: 0.02482306737880402\n"
     ]
    }
   ],
   "source": [
    "print('Mean Absolute Error:', metrics.mean_absolute_error(y_test, y_pred))\n",
    "print('Mean Squared Error:', metrics.mean_squared_error(y_test, y_pred))\n",
    "print('R2 score:', metrics.r2_score(y_test, y_pred))"
   ]
  },
  {
   "cell_type": "markdown",
   "id": "6caa3a56-24cf-4929-9f42-ab842250f402",
   "metadata": {},
   "source": [
    "<p style=\"font: 20px Georgia; \n",
    "          color: black;\n",
    "          font-style: oblique;\n",
    "          text-align: justify;\n",
    "          padding:15px; \n",
    "          background-color:LightGreen \">\n",
    "    CONCLUSION:<br><br>\n",
    "    The Random Forest Regression model demonstrates the best accuracy in predicting test data among the five selected models.\n",
    "</p>"
   ]
  },
  {
   "cell_type": "markdown",
   "id": "eeabe503-9c63-4bb7-82a4-02de7b18dd64",
   "metadata": {},
   "source": [
    "<p style=\"font: 20px Georgia; \n",
    "          color: black;\n",
    "          font-style: oblique;\n",
    "          text-align: justify;\n",
    "          padding:15px; \n",
    "          background-color:MistyRose\"> \n",
    "    SAVING THE MODEL\n",
    "</p>"
   ]
  },
  {
   "cell_type": "code",
   "execution_count": 81,
   "id": "c5c6141e-3b1b-4415-96d8-e883a0b6d47d",
   "metadata": {},
   "outputs": [],
   "source": [
    "import pickle"
   ]
  },
  {
   "cell_type": "code",
   "execution_count": 82,
   "id": "03e647e8-97a8-407d-8f0d-0f2acc7d7891",
   "metadata": {},
   "outputs": [],
   "source": [
    "#saving the model as .pkl file\n",
    "pkl_filename = \"Model/model.pkl\"\n",
    "with open(pkl_filename, 'wb') as file:\n",
    "    pickle.dump(model4, file)"
   ]
  },
  {
   "cell_type": "code",
   "execution_count": 83,
   "id": "13bdb7e8-25a1-448d-ace8-b4a5cddfe3bc",
   "metadata": {},
   "outputs": [
    {
     "name": "stdout",
     "output_type": "stream",
     "text": [
      "0.9322626088672231\n"
     ]
    }
   ],
   "source": [
    "#checking the saved model accuracy\n",
    "with open(pkl_filename, 'rb') as file:\n",
    "    pickle_model = pickle.load(file)\n",
    "score = pickle_model.score(x_test, y_test)\n",
    "print(score)"
   ]
  }
 ],
 "metadata": {
  "kernelspec": {
   "display_name": ".venv",
   "language": "python",
   "name": "python3"
  },
  "language_info": {
   "codemirror_mode": {
    "name": "ipython",
    "version": 3
   },
   "file_extension": ".py",
   "mimetype": "text/x-python",
   "name": "python",
   "nbconvert_exporter": "python",
   "pygments_lexer": "ipython3",
   "version": "3.13.2"
  }
 },
 "nbformat": 4,
 "nbformat_minor": 5
}
